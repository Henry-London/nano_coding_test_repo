{
 "cells": [
  {
   "cell_type": "code",
   "execution_count": null,
   "metadata": {},
   "outputs": [],
   "source": [
    "def git_function(name):\n",
    "    \"\"\"_summary_\n",
    "\n",
    "    Args:\n",
    "        name (string): tells you you're a git\n",
    "    \"\"\"\n",
    "    print(f'{name} is an absolute git')"
   ]
  }
 ],
 "metadata": {
  "language_info": {
   "name": "python"
  }
 },
 "nbformat": 4,
 "nbformat_minor": 2
}
